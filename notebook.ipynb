{
 "cells": [
  {
   "cell_type": "code",
   "execution_count": 1,
   "id": "86b02cc5-6584-47c6-8986-11ea9204b931",
   "metadata": {},
   "outputs": [],
   "source": [
    "import operator\n",
    "from typing import Annotated, TypedDict\n",
    "from langchain_core.prompts import PromptTemplate\n",
    "from langchain_openai import ChatOpenAI\n",
    "from langgraph.graph import END, StateGraph\n",
    "\n",
    "import models\n",
    "import diagnose_prompt\n",
    "import care_plan_prompt\n",
    "import test_reports\n",
    "import extract_pdf\n",
    "\n",
    "# Define the overall state\n",
    "class OverallState(TypedDict):\n",
    "    pdf_path: str\n",
    "    report: str\n",
    "    diagnosis: str\n",
    "    care_plan: str\n",
    "    provider_message: str\n",
    "\n",
    "# Define individual node states\n",
    "class ExtractPDFState(TypedDict):\n",
    "    pdf_path: str\n",
    "\n",
    "class DiagnosisState(TypedDict):\n",
    "    report: str\n",
    "    context: str\n",
    "\n",
    "class CarePlanState(TypedDict):\n",
    "    report: str\n",
    "    context: str\n",
    "\n",
    "class ProviderAssistState(TypedDict):\n",
    "    diagnosis: str\n",
    "    care_plan: str\n",
    "\n",
    "# Node functions\n",
    "def extract_pdf_report(state: ExtractPDFState):\n",
    "    report = extract_pdf.sync_extract_report_from_pdf(state[\"pdf_path\"])\n",
    "    return {\"report\": report}\n",
    "\n",
    "def summary_diagnosis(state: DiagnosisState):\n",
    "    with open('ajnr.md', 'r') as out_file:\n",
    "        context = out_file.read()\n",
    "    diagnosis = models.call_openai(diagnose_prompt.DIAGNOSE_PROMPT.format(context=context, report=state[\"report\"])).choices[0].message.content\n",
    "    return {\"diagnosis\": diagnosis}\n",
    "\n",
    "def generate_care_plan(state: CarePlanState):\n",
    "    with open('acp_guidelines.md', 'r') as out_file:\n",
    "        context = out_file.read()\n",
    "    care_plan = models.call_openai(care_plan_prompt.CARE_PLAN_PROMPT.format(context=context, report=state[\"report\"])).choices[0].message.content\n",
    "    return {\"care_plan\": care_plan}\n",
    "\n",
    "def provider_assist(state: ProviderAssistState):\n",
    "    prompt = PromptTemplate.from_template(\"\"\"\n",
    "    Use the following information to help a provider write a portal message to a patient that helps them understand a recent radiology report and what options are available for care.\n",
    "\n",
    "    # Diagnosis\n",
    "    {diagnosis}\n",
    "\n",
    "    # Care Plan\n",
    "    {care_plan}\n",
    "\n",
    "    Instructions:\n",
    "    - Please be empathetic and friendly in your disposition and explain things in simple terminology.\n",
    "    - The goal of this message is to alleviate concerns, explain findings and set up the discussion in the follow-up visit so that the provider and patient can use shared decision to determine the next steps in treatment.\n",
    "    \"\"\")\n",
    "    provider_message = models.call_openai(prompt.format(diagnosis=state[\"diagnosis\"], care_plan=state[\"care_plan\"])).choices[0].message.content\n",
    "    return {\"provider_message\": provider_message}"
   ]
  },
  {
   "cell_type": "code",
   "execution_count": 2,
   "id": "9b1f9fab-8137-40b9-97aa-28ac5115a21d",
   "metadata": {},
   "outputs": [],
   "source": [
    "# Construct the graph\n",
    "graph = StateGraph(OverallState)\n",
    "    \n",
    "# Add nodes\n",
    "graph.add_node(\"extract_pdf_report\", extract_pdf_report)\n",
    "graph.add_node(\"summary_diagnosis\", summary_diagnosis)\n",
    "graph.add_node(\"generate_care_plan\", generate_care_plan)\n",
    "graph.add_node(\"provider_assist\", provider_assist)\n",
    "\n",
    "# Set entry point and edges\n",
    "graph.set_entry_point(\"extract_pdf_report\")\n",
    "graph.add_edge(\"extract_pdf_report\", \"summary_diagnosis\")\n",
    "graph.add_edge(\"summary_diagnosis\", \"generate_care_plan\")\n",
    "graph.add_edge(\"generate_care_plan\", \"provider_assist\")\n",
    "graph.add_edge(\"provider_assist\", END)\n",
    "\n",
    "# Compile and run the graph\n",
    "app = graph.compile()"
   ]
  },
  {
   "cell_type": "code",
   "execution_count": 3,
   "id": "a34bafce-6802-4cdd-924e-80266e87c53f",
   "metadata": {},
   "outputs": [
    {
     "data": {
      "image/jpeg": "[encoded data removed]",
      "text/plain": [
       "<IPython.core.display.Image object>"
      ]
     },
     "metadata": {},
     "output_type": "display_data"
    }
   ],
   "source": [
    "from IPython.display import Image, display\n",
    "\n",
    "display(Image(app.get_graph().draw_mermaid_png()))"
   ]
  },
  {
   "cell_type": "code",
   "execution_count": null,
   "id": "5d82055d-4032-4559-ac8e-cb5d0f7e32fe",
   "metadata": {},
   "outputs": [],
   "source": []
  }
 ],
 "metadata": {
  "kernelspec": {
   "display_name": "Python 3 (ipykernel)",
   "language": "python",
   "name": "python3"
  },
  "language_info": {
   "codemirror_mode": {
    "name": "ipython",
    "version": 3
   },
   "file_extension": ".py",
   "mimetype": "text/x-python",
   "name": "python",
   "nbconvert_exporter": "python",
   "pygments_lexer": "ipython3",
   "version": "3.11.3"
  }
 },
 "nbformat": 4,
 "nbformat_minor": 5
}
